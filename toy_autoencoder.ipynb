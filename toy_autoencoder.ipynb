{
 "cells": [
  {
   "cell_type": "markdown",
   "metadata": {},
   "source": [
    "# Import libraries"
   ]
  },
  {
   "cell_type": "code",
   "execution_count": 1,
   "metadata": {},
   "outputs": [
    {
     "name": "stderr",
     "output_type": "stream",
     "text": [
      "/Users/tinghinyan/opt/anaconda3/envs/crisis/lib/python3.7/site-packages/tensorflow/python/framework/dtypes.py:526: FutureWarning: Passing (type, 1) or '1type' as a synonym of type is deprecated; in a future version of numpy, it will be understood as (type, (1,)) / '(1,)type'.\n",
      "  _np_qint8 = np.dtype([(\"qint8\", np.int8, 1)])\n",
      "/Users/tinghinyan/opt/anaconda3/envs/crisis/lib/python3.7/site-packages/tensorflow/python/framework/dtypes.py:527: FutureWarning: Passing (type, 1) or '1type' as a synonym of type is deprecated; in a future version of numpy, it will be understood as (type, (1,)) / '(1,)type'.\n",
      "  _np_quint8 = np.dtype([(\"quint8\", np.uint8, 1)])\n",
      "/Users/tinghinyan/opt/anaconda3/envs/crisis/lib/python3.7/site-packages/tensorflow/python/framework/dtypes.py:528: FutureWarning: Passing (type, 1) or '1type' as a synonym of type is deprecated; in a future version of numpy, it will be understood as (type, (1,)) / '(1,)type'.\n",
      "  _np_qint16 = np.dtype([(\"qint16\", np.int16, 1)])\n",
      "/Users/tinghinyan/opt/anaconda3/envs/crisis/lib/python3.7/site-packages/tensorflow/python/framework/dtypes.py:529: FutureWarning: Passing (type, 1) or '1type' as a synonym of type is deprecated; in a future version of numpy, it will be understood as (type, (1,)) / '(1,)type'.\n",
      "  _np_quint16 = np.dtype([(\"quint16\", np.uint16, 1)])\n",
      "/Users/tinghinyan/opt/anaconda3/envs/crisis/lib/python3.7/site-packages/tensorflow/python/framework/dtypes.py:530: FutureWarning: Passing (type, 1) or '1type' as a synonym of type is deprecated; in a future version of numpy, it will be understood as (type, (1,)) / '(1,)type'.\n",
      "  _np_qint32 = np.dtype([(\"qint32\", np.int32, 1)])\n",
      "/Users/tinghinyan/opt/anaconda3/envs/crisis/lib/python3.7/site-packages/tensorflow/python/framework/dtypes.py:535: FutureWarning: Passing (type, 1) or '1type' as a synonym of type is deprecated; in a future version of numpy, it will be understood as (type, (1,)) / '(1,)type'.\n",
      "  np_resource = np.dtype([(\"resource\", np.ubyte, 1)])\n",
      "Using TensorFlow backend.\n"
     ]
    }
   ],
   "source": [
    "%matplotlib inline\n",
    "import matplotlib.pyplot as plt\n",
    "import seaborn as sns\n",
    "import pandas as pd\n",
    "import numpy as np\n",
    "from pylab import rcParams\n",
    "import tensorflow as tf\n",
    "from keras.models import Model, load_model\n",
    "from keras.layers import Input, Dense\n",
    "from keras.callbacks import ModelCheckpoint, TensorBoard\n",
    "from keras import regularizers\n",
    "from sklearn.experimental import enable_iterative_imputer\n",
    "from sklearn.ensemble import RandomForestClassifier\n",
    "from sklearn.impute import IterativeImputer, KNNImputer\n",
    "from sklearn.preprocessing import StandardScaler, MinMaxScaler\n",
    "from sklearn.model_selection import train_test_split\n",
    "from sklearn.metrics import confusion_matrix, precision_recall_curve\n",
    "from sklearn.metrics import recall_score, classification_report, auc, roc_curve\n",
    "from sklearn.metrics import precision_recall_fscore_support, f1_score\n",
    "from numpy.random import seed\n",
    "seed(1)\n",
    "from tensorflow import set_random_seed\n",
    "\n",
    "set_random_seed(2)\n",
    "SEED = 123 #used to help randomly select the data points\n",
    "DATA_SPLIT_PCT = 0.2\n",
    "rcParams['figure.figsize'] = 8, 6\n",
    "\n",
    "LABELS = [\"Normal\",\"Break\"]"
   ]
  },
  {
   "cell_type": "markdown",
   "metadata": {},
   "source": [
    "# Data"
   ]
  },
  {
   "attachments": {},
   "cell_type": "markdown",
   "metadata": {},
   "source": [
    "**y**\n",
    "1. **Crisis**: crisisJST\n",
    "\n",
    "**X**\n",
    "2. **GDP growth**: gdp/gdp_-1 * 100\n",
    "3. **CPI growth**: cpi/cpi_-1 * 100\n",
    "\n",
    "4. **Public sector debt-to-GDP ratio**: debtgdp\n",
    "5. **Total loans to non-financial private sector-to-GDP ratio**: tloans/gdp \n",
    "6. **Mortgage loans to non-financial private sector-to-GDP ratio**: tmort/gdp\n",
    "7. **Total loans to households-to-GDP ratio**: thh/gdp\n",
    "8. **Total loans to business-to-GDP ratio**: tbus/gdp\n",
    "\n",
    "9. **Short-term interest rate**: stir\n",
    "10. **Long-term interest rate**: ltrate \n",
    "\n",
    "11. **Current account-to-GDP ratio**: ca/gdp\n",
    "\n",
    "12. **Housing capital gain**: housing_capgain\n",
    "13. **Equity capital gain**: eq_capgain\n",
    "14. **Government deficit-to-GDP ratio** = (expenditure - revenue)/ gdp\n",
    "15. **Change in investment** = iy"
   ]
  },
  {
   "cell_type": "code",
   "execution_count": 2,
   "metadata": {},
   "outputs": [],
   "source": [
    "df = pd.read_excel (r'JSTdatasetR4.xlsx', sheet_name='Data')\n",
    "\n",
    "df = df[df.columns[df.columns.isin(['year', 'iso', 'crisisJST',\n",
    "                                    'gdp', 'cpi', 'iy',\n",
    "                                    'narrowm', 'money',\n",
    "                                    'debtgdp', 'revenue', 'expenditure',\n",
    "                                    'tloans', 'tmort', 'thh', 'tbus',\n",
    "                                    'stir', 'ltrate',\n",
    "                                    'ca',\n",
    "                                    'housing_capgain', 'eq_capgain'\n",
    "                                   ])]]"
   ]
  },
  {
   "cell_type": "markdown",
   "metadata": {},
   "source": [
    "## Transformation"
   ]
  },
  {
   "cell_type": "code",
   "execution_count": 3,
   "metadata": {},
   "outputs": [
    {
     "data": {
      "text/plain": [
       "<bound method NDFrame.head of       year  iso       gdp        iy         cpi          ca   narrowm  \\\n",
       "0     1870  AUS    208.78  0.109266    2.708333   -6.147594    23.300   \n",
       "1     1871  AUS    211.56  0.104579    2.666667    5.260774    27.200   \n",
       "2     1872  AUS    227.40  0.130438    2.541667    7.867636    36.200   \n",
       "3     1873  AUS    266.54  0.124986    2.541667  -11.047833    38.600   \n",
       "4     1874  AUS    287.58  0.141960    2.666667   -5.563959    37.900   \n",
       "...    ...  ...       ...       ...         ...         ...       ...   \n",
       "2494  2012  USA  16155.30  0.189678  170.439616 -444.593000  2657.124   \n",
       "2495  2013  USA  16691.50  0.192086  172.915614 -426.197000  3685.277   \n",
       "2496  2014  USA  17427.60  0.196377  175.745326 -349.544000  3898.497   \n",
       "2497  2015  USA  18120.70  0.198301  175.947448 -373.796000  3816.062   \n",
       "2498  2016  USA  18624.50  0.195831  178.170793 -434.603000  3509.753   \n",
       "\n",
       "             money  stir    ltrate   debtgdp   revenue  expenditure  \\\n",
       "0        54.300000  4.88  4.911817  0.172568       NaN          NaN   \n",
       "1        59.500000  4.60  4.844633  0.191799       NaN          NaN   \n",
       "2        68.500000  4.60  4.737350  0.154920       NaN          NaN   \n",
       "3        73.700000  4.40  4.671958  0.142692       NaN          NaN   \n",
       "4        79.300000  4.50  4.653317  0.194322       NaN          NaN   \n",
       "...            ...   ...       ...       ...       ...          ...   \n",
       "2494  10019.616667  0.14  1.802500  1.001000  2449.988     3536.951   \n",
       "2495  10691.733333  0.11  2.350830  1.012000  2775.103     3454.647   \n",
       "2496  11349.141667  0.09  2.540833  1.032000  3021.487     3506.114   \n",
       "2497  12015.600000  0.13  2.135833  1.008000  3249.886     3688.292   \n",
       "2498  12834.600000  0.39  1.841667  1.058000  3267.961     3852.612   \n",
       "\n",
       "      crisisJST     tloans     tmort       thh      tbus  housing_capgain  \\\n",
       "0             0     54.792     1.680     1.680    53.112              NaN   \n",
       "1             0     53.748     1.766     1.766    51.982        -0.045456   \n",
       "2             0     55.822     1.470     1.470    54.352         0.031747   \n",
       "3             0     65.380     1.364     1.364    64.016        -0.030770   \n",
       "4             0     71.478     1.434     1.434    70.044         0.206350   \n",
       "...         ...        ...       ...       ...       ...              ...   \n",
       "2494          0   9444.211  6141.260  6170.594  3273.617        -0.000625   \n",
       "2495          0   9730.200  6255.000  6242.800  3487.400         0.073980   \n",
       "2496          0  10273.200  6461.200  6436.700  3836.500         0.054650   \n",
       "2497          0  11029.400  6894.000  6806.200  4223.200         0.055978   \n",
       "2498          0  11747.100  7370.800  7214.800  4532.300              NaN   \n",
       "\n",
       "      eq_capgain  \n",
       "0      -0.070045  \n",
       "1       0.041654  \n",
       "2       0.108945  \n",
       "3       0.083086  \n",
       "4       0.119389  \n",
       "...          ...  \n",
       "2494    0.143945  \n",
       "2495    0.271035  \n",
       "2496    0.136350  \n",
       "2497   -0.000092  \n",
       "2498         NaN  \n",
       "\n",
       "[2499 rows x 20 columns]>"
      ]
     },
     "execution_count": 3,
     "metadata": {},
     "output_type": "execute_result"
    }
   ],
   "source": [
    "df.head"
   ]
  },
  {
   "cell_type": "code",
   "execution_count": 4,
   "metadata": {},
   "outputs": [],
   "source": [
    "df = df.rename(columns={\"crisisJST\": \"y\"})\n",
    "\n",
    "df = df.assign(tloans = df['tloans'] / df['gdp'],\n",
    "               tmort = df['tmort'] / df['gdp'],\n",
    "               thh = df['thh'] / df['gdp'],\n",
    "               tbus = df['tbus'] / df['gdp'],\n",
    "               ca = df['ca'] / df['gdp'],\n",
    "               deficit = (df['expenditure'] - df['revenue'])/ df['gdp'],\n",
    "               yield_slope = df['ltrate'] - df['stir'])"
   ]
  },
  {
   "cell_type": "code",
   "execution_count": 5,
   "metadata": {},
   "outputs": [],
   "source": [
    "df['gdp'] = (df.groupby('iso')['gdp'].apply(pd.Series.pct_change)) \n",
    "df['cpi'] = (df.groupby('iso')['cpi'].apply(pd.Series.pct_change)) \n",
    "df['narrowm'] = (df.groupby('iso')['narrowm'].apply(pd.Series.pct_change)) \n",
    "df['money'] = (df.groupby('iso')['money'].apply(pd.Series.pct_change)) \n",
    "\n",
    "df = df[['y'] + [ col for col in df.columns if col != 'y' ]]"
   ]
  },
  {
   "cell_type": "markdown",
   "metadata": {},
   "source": [
    "# Framing the problem"
   ]
  },
  {
   "cell_type": "markdown",
   "metadata": {},
   "source": [
    "The objective is to predict a break ***before*** it occurs. For this exerciese, let's define the forecast horizon as t+2. Conceptually this can be done by shifting the y label 2 rows up, or just re-define the label. But here we will do something different - see the psuedo code below.\n",
    "\n",
    "    If row t == 1:    \n",
    "    \n",
    "        set (t-2) and (t-1) = 1\n",
    "    \n",
    "        delete t\n",
    "        \n",
    "The rationale is simple, the first action allows the classifier learns up to t-2 and we do not want the classifier to predict a break when it has already happened."
   ]
  },
  {
   "cell_type": "markdown",
   "metadata": {},
   "source": [
    "## A small utility to acheive this"
   ]
  },
  {
   "cell_type": "code",
   "execution_count": 6,
   "metadata": {
    "scrolled": true
   },
   "outputs": [],
   "source": [
    "sign = lambda x: (1, -1)[x < 0]\n",
    "\n",
    "def curve_shift(df, shift_by):\n",
    "    \n",
    "    '''\n",
    "    This function will shift the binary labels in a dataframe.\n",
    "    The curve shift will be with respect to the 1s. \n",
    "    For example, if shift is -2, the following process\n",
    "    will happen: if row n is labeled as 1, then\n",
    "    - Make row (n+shift_by):(n+shift_by-1) = 1.\n",
    "    - Remove row n.\n",
    "    i.e. the labels will be shifted up to 2 rows up.\n",
    "    \n",
    "    Inputs:\n",
    "    df       A pandas dataframe with a binary labeled column. \n",
    "             This labeled column should be named as 'y'.\n",
    "    shift_by An integer denoting the number of rows to shift.\n",
    "    \n",
    "    Output\n",
    "    df       A dataframe with the binary labels shifted by shift.\n",
    "    '''\n",
    "\n",
    "    vector = df['y'].copy()\n",
    "    for s in range(abs(shift_by)):\n",
    "        tmp = vector.shift(sign(shift_by))\n",
    "        tmp = tmp.fillna(0)\n",
    "        vector += tmp\n",
    "    labelcol = 'y'\n",
    "    # Add vector to the df\n",
    "    df.insert(loc = 0, column = labelcol + 'tmp', value = vector)\n",
    "    # Remove the rows with labelcol == 1.\n",
    "    crisis = df[df[labelcol] == 1].index\n",
    "    #crisis_1 = crisis + 1\n",
    "    #crisis_2 = crisis + 2\n",
    "    df = df.drop(crisis)\n",
    "    #df = df.drop(crisis_1)\n",
    "    #df = df.drop(crisis_2)\n",
    "    # Drop labelcol and rename the tmp col as labelcol\n",
    "    df = df.drop(labelcol, axis=1)\n",
    "    df = df.rename(columns={labelcol+'tmp': labelcol})\n",
    "    # Make the labelcol binary\n",
    "    df.loc[df[labelcol] > 0, labelcol] = 1\n",
    "\n",
    "    return df"
   ]
  },
  {
   "cell_type": "code",
   "execution_count": 7,
   "metadata": {},
   "outputs": [],
   "source": [
    "df_grouped = df.groupby('iso')\n",
    "\n",
    "a = []\n",
    "\n",
    "for group_name, df_group in df_grouped:\n",
    "    a.append(curve_shift(df_group, shift_by = -2))\n",
    "\n",
    "# Shift the response column y by 2 rows to do a 2-year ahead prediction.\n",
    "df_shifted = pd.concat(a)"
   ]
  },
  {
   "cell_type": "markdown",
   "metadata": {},
   "source": [
    "### A quick test to make sure it is working as expected"
   ]
  },
  {
   "cell_type": "code",
   "execution_count": 8,
   "metadata": {},
   "outputs": [
    {
     "name": "stdout",
     "output_type": "stream",
     "text": [
      "Before shifting\n"
     ]
    },
    {
     "data": {
      "text/html": [
       "<div>\n",
       "<style scoped>\n",
       "    .dataframe tbody tr th:only-of-type {\n",
       "        vertical-align: middle;\n",
       "    }\n",
       "\n",
       "    .dataframe tbody tr th {\n",
       "        vertical-align: top;\n",
       "    }\n",
       "\n",
       "    .dataframe thead th {\n",
       "        text-align: right;\n",
       "    }\n",
       "</style>\n",
       "<table border=\"1\" class=\"dataframe\">\n",
       "  <thead>\n",
       "    <tr style=\"text-align: right;\">\n",
       "      <th></th>\n",
       "      <th>y</th>\n",
       "      <th>year</th>\n",
       "      <th>iso</th>\n",
       "      <th>gdp</th>\n",
       "      <th>iy</th>\n",
       "    </tr>\n",
       "  </thead>\n",
       "  <tbody>\n",
       "    <tr>\n",
       "      <th>20</th>\n",
       "      <td>0</td>\n",
       "      <td>1890</td>\n",
       "      <td>AUS</td>\n",
       "      <td>0.031694</td>\n",
       "      <td>0.169927</td>\n",
       "    </tr>\n",
       "    <tr>\n",
       "      <th>21</th>\n",
       "      <td>0</td>\n",
       "      <td>1891</td>\n",
       "      <td>AUS</td>\n",
       "      <td>-0.022471</td>\n",
       "      <td>0.195449</td>\n",
       "    </tr>\n",
       "    <tr>\n",
       "      <th>22</th>\n",
       "      <td>0</td>\n",
       "      <td>1892</td>\n",
       "      <td>AUS</td>\n",
       "      <td>-0.082547</td>\n",
       "      <td>0.136706</td>\n",
       "    </tr>\n",
       "    <tr>\n",
       "      <th>23</th>\n",
       "      <td>1</td>\n",
       "      <td>1893</td>\n",
       "      <td>AUS</td>\n",
       "      <td>-0.130321</td>\n",
       "      <td>0.111523</td>\n",
       "    </tr>\n",
       "    <tr>\n",
       "      <th>24</th>\n",
       "      <td>0</td>\n",
       "      <td>1894</td>\n",
       "      <td>AUS</td>\n",
       "      <td>-0.069357</td>\n",
       "      <td>0.119461</td>\n",
       "    </tr>\n",
       "  </tbody>\n",
       "</table>\n",
       "</div>"
      ],
      "text/plain": [
       "    y  year  iso       gdp        iy\n",
       "20  0  1890  AUS  0.031694  0.169927\n",
       "21  0  1891  AUS -0.022471  0.195449\n",
       "22  0  1892  AUS -0.082547  0.136706\n",
       "23  1  1893  AUS -0.130321  0.111523\n",
       "24  0  1894  AUS -0.069357  0.119461"
      ]
     },
     "metadata": {},
     "output_type": "display_data"
    },
    {
     "name": "stdout",
     "output_type": "stream",
     "text": [
      "After shifting\n"
     ]
    },
    {
     "data": {
      "text/html": [
       "<div>\n",
       "<style scoped>\n",
       "    .dataframe tbody tr th:only-of-type {\n",
       "        vertical-align: middle;\n",
       "    }\n",
       "\n",
       "    .dataframe tbody tr th {\n",
       "        vertical-align: top;\n",
       "    }\n",
       "\n",
       "    .dataframe thead th {\n",
       "        text-align: right;\n",
       "    }\n",
       "</style>\n",
       "<table border=\"1\" class=\"dataframe\">\n",
       "  <thead>\n",
       "    <tr style=\"text-align: right;\">\n",
       "      <th></th>\n",
       "      <th>y</th>\n",
       "      <th>year</th>\n",
       "      <th>iso</th>\n",
       "      <th>gdp</th>\n",
       "      <th>iy</th>\n",
       "    </tr>\n",
       "  </thead>\n",
       "  <tbody>\n",
       "    <tr>\n",
       "      <th>20</th>\n",
       "      <td>0.0</td>\n",
       "      <td>1890</td>\n",
       "      <td>AUS</td>\n",
       "      <td>0.031694</td>\n",
       "      <td>0.169927</td>\n",
       "    </tr>\n",
       "    <tr>\n",
       "      <th>21</th>\n",
       "      <td>1.0</td>\n",
       "      <td>1891</td>\n",
       "      <td>AUS</td>\n",
       "      <td>-0.022471</td>\n",
       "      <td>0.195449</td>\n",
       "    </tr>\n",
       "    <tr>\n",
       "      <th>22</th>\n",
       "      <td>1.0</td>\n",
       "      <td>1892</td>\n",
       "      <td>AUS</td>\n",
       "      <td>-0.082547</td>\n",
       "      <td>0.136706</td>\n",
       "    </tr>\n",
       "    <tr>\n",
       "      <th>24</th>\n",
       "      <td>0.0</td>\n",
       "      <td>1894</td>\n",
       "      <td>AUS</td>\n",
       "      <td>-0.069357</td>\n",
       "      <td>0.119461</td>\n",
       "    </tr>\n",
       "    <tr>\n",
       "      <th>25</th>\n",
       "      <td>0.0</td>\n",
       "      <td>1895</td>\n",
       "      <td>AUS</td>\n",
       "      <td>-0.038833</td>\n",
       "      <td>0.110825</td>\n",
       "    </tr>\n",
       "  </tbody>\n",
       "</table>\n",
       "</div>"
      ],
      "text/plain": [
       "      y  year  iso       gdp        iy\n",
       "20  0.0  1890  AUS  0.031694  0.169927\n",
       "21  1.0  1891  AUS -0.022471  0.195449\n",
       "22  1.0  1892  AUS -0.082547  0.136706\n",
       "24  0.0  1894  AUS -0.069357  0.119461\n",
       "25  0.0  1895  AUS -0.038833  0.110825"
      ]
     },
     "metadata": {},
     "output_type": "display_data"
    }
   ],
   "source": [
    "'''\n",
    "Shift the data by 2 units, equal to 2 years.\n",
    "\n",
    "Test: Testing whether the shift happened correctly.\n",
    "'''\n",
    "\n",
    "print('Before shifting')  # Positive labeled rows before shifting.\n",
    "one_indexes = df.index[df['y'] == 1]\n",
    "display(df.iloc[(one_indexes[0]-3):(one_indexes[0]+2), 0:5].head(n=5))\n",
    "\n",
    "print('After shifting')  # Validating if the shift happened correctly.\n",
    "display(df_shifted.iloc[(one_indexes[0]-3):(one_indexes[0]+2), 0:5].head(n=6))"
   ]
  },
  {
   "cell_type": "code",
   "execution_count": 9,
   "metadata": {},
   "outputs": [
    {
     "data": {
      "text/plain": [
       "1540"
      ]
     },
     "execution_count": 9,
     "metadata": {},
     "output_type": "execute_result"
    }
   ],
   "source": [
    "# Remove time column, and the categorical columns for simplicity\n",
    "df = df_shifted\n",
    "\n",
    "# Keep a small subset\n",
    "df = df[['y', 'year', 'gdp', 'cpi', #'iy',\n",
    "         #'narrowm',\n",
    "         'money',\n",
    "         'ca', 'debtgdp', 'deficit',\n",
    "         'tloans', #'tmort',\n",
    "         'yield_slope',\n",
    "         'eq_capgain', 'housing_capgain']].dropna()\n",
    "len(df)"
   ]
  },
  {
   "cell_type": "markdown",
   "metadata": {},
   "source": [
    "# Divide the data into train, valid, and test"
   ]
  },
  {
   "cell_type": "code",
   "execution_count": 10,
   "metadata": {},
   "outputs": [],
   "source": [
    "df_train, df_test = train_test_split(df, test_size=DATA_SPLIT_PCT, random_state=SEED)\n",
    "df_train, df_valid = train_test_split(df_train, test_size=DATA_SPLIT_PCT, random_state=SEED)"
   ]
  },
  {
   "cell_type": "markdown",
   "metadata": {},
   "source": [
    "In the autoencoder, we will be encoding only the negatively labeled data. That is, we will take the part of data for which y=0 and build an autoencoder. For that, we will divide the datasets as following."
   ]
  },
  {
   "cell_type": "code",
   "execution_count": 11,
   "metadata": {},
   "outputs": [],
   "source": [
    "# labels\n",
    "df_train_0 = df_train.loc[df['y'] == 0]\n",
    "df_train_1 = df_train.loc[df['y'] == 1]\n",
    "\n",
    "# data\n",
    "df_train_0_x = df_train_0.drop(['y'], axis=1)\n",
    "df_train_1_x = df_train_1.drop(['y'], axis=1)\n",
    "\n",
    "df_valid_0 = df_valid.loc[df['y'] == 0]\n",
    "df_valid_1 = df_valid.loc[df['y'] == 1]\n",
    "df_valid_0_x = df_valid_0.drop(['y'], axis=1)\n",
    "df_valid_1_x = df_valid_1.drop(['y'], axis=1)\n",
    "\n",
    "df_test_0 = df_test.loc[df['y'] == 0]\n",
    "df_test_1 = df_test.loc[df['y'] == 1]\n",
    "df_test_0_x = df_test_0.drop(['y'], axis=1)\n",
    "df_test_1_x = df_test_1.drop(['y'], axis=1)"
   ]
  },
  {
   "cell_type": "code",
   "execution_count": 12,
   "metadata": {},
   "outputs": [
    {
     "data": {
      "text/html": [
       "<div>\n",
       "<style scoped>\n",
       "    .dataframe tbody tr th:only-of-type {\n",
       "        vertical-align: middle;\n",
       "    }\n",
       "\n",
       "    .dataframe tbody tr th {\n",
       "        vertical-align: top;\n",
       "    }\n",
       "\n",
       "    .dataframe thead th {\n",
       "        text-align: right;\n",
       "    }\n",
       "</style>\n",
       "<table border=\"1\" class=\"dataframe\">\n",
       "  <thead>\n",
       "    <tr style=\"text-align: right;\">\n",
       "      <th></th>\n",
       "      <th>y</th>\n",
       "      <th>year</th>\n",
       "      <th>gdp</th>\n",
       "      <th>cpi</th>\n",
       "      <th>money</th>\n",
       "      <th>ca</th>\n",
       "      <th>debtgdp</th>\n",
       "      <th>deficit</th>\n",
       "      <th>tloans</th>\n",
       "      <th>yield_slope</th>\n",
       "      <th>eq_capgain</th>\n",
       "      <th>housing_capgain</th>\n",
       "    </tr>\n",
       "  </thead>\n",
       "  <tbody>\n",
       "    <tr>\n",
       "      <th>1441</th>\n",
       "      <td>0.0</td>\n",
       "      <td>1988</td>\n",
       "      <td>0.039478</td>\n",
       "      <td>0.007464</td>\n",
       "      <td>0.087038</td>\n",
       "      <td>0.029609</td>\n",
       "      <td>0.737415</td>\n",
       "      <td>0.050837</td>\n",
       "      <td>0.761468</td>\n",
       "      <td>1.599163</td>\n",
       "      <td>0.288267</td>\n",
       "      <td>0.046042</td>\n",
       "    </tr>\n",
       "    <tr>\n",
       "      <th>270</th>\n",
       "      <td>0.0</td>\n",
       "      <td>1993</td>\n",
       "      <td>0.029929</td>\n",
       "      <td>0.027476</td>\n",
       "      <td>0.137406</td>\n",
       "      <td>0.051240</td>\n",
       "      <td>1.407598</td>\n",
       "      <td>0.057700</td>\n",
       "      <td>0.821503</td>\n",
       "      <td>-0.931667</td>\n",
       "      <td>0.303066</td>\n",
       "      <td>0.060953</td>\n",
       "    </tr>\n",
       "  </tbody>\n",
       "</table>\n",
       "</div>"
      ],
      "text/plain": [
       "        y  year       gdp       cpi     money        ca   debtgdp   deficit  \\\n",
       "1441  0.0  1988  0.039478  0.007464  0.087038  0.029609  0.737415  0.050837   \n",
       "270   0.0  1993  0.029929  0.027476  0.137406  0.051240  1.407598  0.057700   \n",
       "\n",
       "        tloans  yield_slope  eq_capgain  housing_capgain  \n",
       "1441  0.761468     1.599163    0.288267         0.046042  \n",
       "270   0.821503    -0.931667    0.303066         0.060953  "
      ]
     },
     "metadata": {},
     "output_type": "display_data"
    },
    {
     "data": {
      "text/html": [
       "<div>\n",
       "<style scoped>\n",
       "    .dataframe tbody tr th:only-of-type {\n",
       "        vertical-align: middle;\n",
       "    }\n",
       "\n",
       "    .dataframe tbody tr th {\n",
       "        vertical-align: top;\n",
       "    }\n",
       "\n",
       "    .dataframe thead th {\n",
       "        text-align: right;\n",
       "    }\n",
       "</style>\n",
       "<table border=\"1\" class=\"dataframe\">\n",
       "  <thead>\n",
       "    <tr style=\"text-align: right;\">\n",
       "      <th></th>\n",
       "      <th>year</th>\n",
       "      <th>gdp</th>\n",
       "      <th>cpi</th>\n",
       "      <th>money</th>\n",
       "      <th>ca</th>\n",
       "      <th>debtgdp</th>\n",
       "      <th>deficit</th>\n",
       "      <th>tloans</th>\n",
       "      <th>yield_slope</th>\n",
       "      <th>eq_capgain</th>\n",
       "      <th>housing_capgain</th>\n",
       "    </tr>\n",
       "  </thead>\n",
       "  <tbody>\n",
       "    <tr>\n",
       "      <th>1441</th>\n",
       "      <td>1988</td>\n",
       "      <td>0.039478</td>\n",
       "      <td>0.007464</td>\n",
       "      <td>0.087038</td>\n",
       "      <td>0.029609</td>\n",
       "      <td>0.737415</td>\n",
       "      <td>0.050837</td>\n",
       "      <td>0.761468</td>\n",
       "      <td>1.599163</td>\n",
       "      <td>0.288267</td>\n",
       "      <td>0.046042</td>\n",
       "    </tr>\n",
       "    <tr>\n",
       "      <th>270</th>\n",
       "      <td>1993</td>\n",
       "      <td>0.029929</td>\n",
       "      <td>0.027476</td>\n",
       "      <td>0.137406</td>\n",
       "      <td>0.051240</td>\n",
       "      <td>1.407598</td>\n",
       "      <td>0.057700</td>\n",
       "      <td>0.821503</td>\n",
       "      <td>-0.931667</td>\n",
       "      <td>0.303066</td>\n",
       "      <td>0.060953</td>\n",
       "    </tr>\n",
       "  </tbody>\n",
       "</table>\n",
       "</div>"
      ],
      "text/plain": [
       "      year       gdp       cpi     money        ca   debtgdp   deficit  \\\n",
       "1441  1988  0.039478  0.007464  0.087038  0.029609  0.737415  0.050837   \n",
       "270   1993  0.029929  0.027476  0.137406  0.051240  1.407598  0.057700   \n",
       "\n",
       "        tloans  yield_slope  eq_capgain  housing_capgain  \n",
       "1441  0.761468     1.599163    0.288267         0.046042  \n",
       "270   0.821503    -0.931667    0.303066         0.060953  "
      ]
     },
     "metadata": {},
     "output_type": "display_data"
    }
   ],
   "source": [
    "display(df_train_0.head(n=2))\n",
    "\n",
    "display(df_train_0_x.head(n=2))"
   ]
  },
  {
   "cell_type": "markdown",
   "metadata": {},
   "source": [
    "# Standardisation"
   ]
  },
  {
   "cell_type": "markdown",
   "metadata": {},
   "source": [
    "Here we are doing a MinMax trasnformation, can also do a Guassian thing. Such transformation seems standard for autoencoders.\n",
    "\n",
    "See scikit learn: https://scikit-learn.org/stable/modules/generated/sklearn.preprocessing.StandardScaler.html"
   ]
  },
  {
   "cell_type": "code",
   "execution_count": 13,
   "metadata": {},
   "outputs": [],
   "source": [
    "#scaler = StandardScaler().fit(df_train_0_x)\n",
    "scaler = MinMaxScaler().fit(df_train_0_x)\n",
    "\n",
    "df_train_0_x_rescaled = scaler.transform(df_train_0_x)\n",
    "df_valid_0_x_rescaled = scaler.transform(df_valid_0_x)\n",
    "df_valid_x_rescaled = scaler.transform(df_valid.drop(['y'], axis = 1))\n",
    "\n",
    "df_test_0_x_rescaled = scaler.transform(df_test_0_x)\n",
    "df_test_x_rescaled = scaler.transform(df_test.drop(['y'], axis = 1))"
   ]
  },
  {
   "cell_type": "markdown",
   "metadata": {},
   "source": [
    "# A simple autoencoder"
   ]
  },
  {
   "cell_type": "markdown",
   "metadata": {},
   "source": [
    "## Train a model"
   ]
  },
  {
   "cell_type": "code",
   "execution_count": 14,
   "metadata": {},
   "outputs": [
    {
     "name": "stdout",
     "output_type": "stream",
     "text": [
      "WARNING:tensorflow:From /Users/tinghinyan/opt/anaconda3/envs/crisis/lib/python3.7/site-packages/tensorflow/python/ops/resource_variable_ops.py:435: colocate_with (from tensorflow.python.framework.ops) is deprecated and will be removed in a future version.\n",
      "Instructions for updating:\n",
      "Colocations handled automatically by placer.\n",
      "Model: \"model_1\"\n",
      "_________________________________________________________________\n",
      "Layer (type)                 Output Shape              Param #   \n",
      "=================================================================\n",
      "input_1 (InputLayer)         (None, 11)                0         \n",
      "_________________________________________________________________\n",
      "dense_1 (Dense)              (None, 4)                 48        \n",
      "_________________________________________________________________\n",
      "dense_2 (Dense)              (None, 2)                 10        \n",
      "_________________________________________________________________\n",
      "dense_3 (Dense)              (None, 2)                 6         \n",
      "_________________________________________________________________\n",
      "dense_4 (Dense)              (None, 4)                 12        \n",
      "_________________________________________________________________\n",
      "dense_5 (Dense)              (None, 11)                55        \n",
      "=================================================================\n",
      "Total params: 131\n",
      "Trainable params: 131\n",
      "Non-trainable params: 0\n",
      "_________________________________________________________________\n"
     ]
    }
   ],
   "source": [
    "nb_epoch = 200\n",
    "batch_size = 128\n",
    "input_dim = df_train_0_x_rescaled.shape[1] #num of predictor variables, \n",
    "#encoding_dim = 32\n",
    "encoding_dim = 4\n",
    "hidden_dim = int(encoding_dim / 2)\n",
    "learning_rate = 1e-3\n",
    "\n",
    "input_layer = Input(shape=(input_dim, ))\n",
    "encoder = Dense(encoding_dim, activation=\"relu\", activity_regularizer=regularizers.l1(learning_rate))(input_layer)\n",
    "encoder = Dense(hidden_dim, activation=\"relu\")(encoder)\n",
    "decoder = Dense(hidden_dim, activation=\"relu\")(encoder)\n",
    "decoder = Dense(encoding_dim, activation=\"relu\")(decoder)\n",
    "decoder = Dense(input_dim, activation=\"linear\")(decoder)\n",
    "autoencoder = Model(inputs=input_layer, outputs=decoder)\n",
    "autoencoder.summary()"
   ]
  },
  {
   "cell_type": "code",
   "execution_count": 15,
   "metadata": {},
   "outputs": [
    {
     "name": "stdout",
     "output_type": "stream",
     "text": [
      "WARNING:tensorflow:From /Users/tinghinyan/opt/anaconda3/envs/crisis/lib/python3.7/site-packages/tensorflow/python/ops/math_ops.py:3066: to_int32 (from tensorflow.python.ops.math_ops) is deprecated and will be removed in a future version.\n",
      "Instructions for updating:\n",
      "Use tf.cast instead.\n",
      "Train on 923 samples, validate on 231 samples\n",
      "Epoch 1/200\n",
      "923/923 [==============================] - 0s 175us/step - loss: 0.1539 - accuracy: 0.0423 - val_loss: 0.1418 - val_accuracy: 0.0433\n",
      "Epoch 2/200\n",
      "923/923 [==============================] - 0s 13us/step - loss: 0.1434 - accuracy: 0.0401 - val_loss: 0.1323 - val_accuracy: 0.0390\n",
      "Epoch 3/200\n",
      "923/923 [==============================] - 0s 11us/step - loss: 0.1336 - accuracy: 0.0368 - val_loss: 0.1234 - val_accuracy: 0.0390\n",
      "Epoch 4/200\n",
      "923/923 [==============================] - 0s 11us/step - loss: 0.1245 - accuracy: 0.0368 - val_loss: 0.1149 - val_accuracy: 0.0390\n",
      "Epoch 5/200\n",
      "923/923 [==============================] - 0s 11us/step - loss: 0.1160 - accuracy: 0.0368 - val_loss: 0.1070 - val_accuracy: 0.0390\n",
      "Epoch 6/200\n",
      "923/923 [==============================] - 0s 11us/step - loss: 0.1081 - accuracy: 0.0368 - val_loss: 0.0996 - val_accuracy: 0.0390\n",
      "Epoch 7/200\n",
      "923/923 [==============================] - 0s 11us/step - loss: 0.1005 - accuracy: 0.0368 - val_loss: 0.0927 - val_accuracy: 0.0390\n",
      "Epoch 8/200\n",
      "923/923 [==============================] - 0s 12us/step - loss: 0.0935 - accuracy: 0.0368 - val_loss: 0.0863 - val_accuracy: 0.0390\n",
      "Epoch 9/200\n",
      "923/923 [==============================] - 0s 11us/step - loss: 0.0867 - accuracy: 0.0368 - val_loss: 0.0801 - val_accuracy: 0.0390\n",
      "Epoch 10/200\n",
      "923/923 [==============================] - 0s 14us/step - loss: 0.0805 - accuracy: 0.0368 - val_loss: 0.0744 - val_accuracy: 0.0390\n",
      "Epoch 11/200\n",
      "923/923 [==============================] - 0s 11us/step - loss: 0.0746 - accuracy: 0.0368 - val_loss: 0.0690 - val_accuracy: 0.0390\n",
      "Epoch 12/200\n",
      "923/923 [==============================] - 0s 12us/step - loss: 0.0691 - accuracy: 0.0368 - val_loss: 0.0640 - val_accuracy: 0.0390\n",
      "Epoch 13/200\n",
      "923/923 [==============================] - 0s 11us/step - loss: 0.0640 - accuracy: 0.0368 - val_loss: 0.0593 - val_accuracy: 0.0390\n",
      "Epoch 14/200\n",
      "923/923 [==============================] - 0s 14us/step - loss: 0.0593 - accuracy: 0.0368 - val_loss: 0.0550 - val_accuracy: 0.0390\n",
      "Epoch 15/200\n",
      "923/923 [==============================] - 0s 12us/step - loss: 0.0550 - accuracy: 0.0368 - val_loss: 0.0510 - val_accuracy: 0.0390\n",
      "Epoch 16/200\n",
      "923/923 [==============================] - 0s 11us/step - loss: 0.0509 - accuracy: 0.0368 - val_loss: 0.0473 - val_accuracy: 0.0390\n",
      "Epoch 17/200\n",
      "923/923 [==============================] - 0s 13us/step - loss: 0.0473 - accuracy: 0.0368 - val_loss: 0.0439 - val_accuracy: 0.0390\n",
      "Epoch 18/200\n",
      "923/923 [==============================] - 0s 12us/step - loss: 0.0438 - accuracy: 0.0368 - val_loss: 0.0407 - val_accuracy: 0.0390\n",
      "Epoch 19/200\n",
      "923/923 [==============================] - 0s 12us/step - loss: 0.0406 - accuracy: 0.0368 - val_loss: 0.0377 - val_accuracy: 0.0390\n",
      "Epoch 20/200\n",
      "923/923 [==============================] - 0s 11us/step - loss: 0.0377 - accuracy: 0.0368 - val_loss: 0.0350 - val_accuracy: 0.0390\n",
      "Epoch 21/200\n",
      "923/923 [==============================] - 0s 13us/step - loss: 0.0350 - accuracy: 0.0368 - val_loss: 0.0325 - val_accuracy: 0.0390\n",
      "Epoch 22/200\n",
      "923/923 [==============================] - 0s 12us/step - loss: 0.0326 - accuracy: 0.0368 - val_loss: 0.0303 - val_accuracy: 0.0390\n",
      "Epoch 23/200\n",
      "923/923 [==============================] - 0s 14us/step - loss: 0.0303 - accuracy: 0.0368 - val_loss: 0.0282 - val_accuracy: 0.0390\n",
      "Epoch 24/200\n",
      "923/923 [==============================] - 0s 14us/step - loss: 0.0283 - accuracy: 0.0368 - val_loss: 0.0263 - val_accuracy: 0.0390\n",
      "Epoch 25/200\n",
      "923/923 [==============================] - 0s 12us/step - loss: 0.0265 - accuracy: 0.0368 - val_loss: 0.0247 - val_accuracy: 0.0390\n",
      "Epoch 26/200\n",
      "923/923 [==============================] - 0s 12us/step - loss: 0.0249 - accuracy: 0.0368 - val_loss: 0.0232 - val_accuracy: 0.0390\n",
      "Epoch 27/200\n",
      "923/923 [==============================] - 0s 11us/step - loss: 0.0235 - accuracy: 0.0368 - val_loss: 0.0219 - val_accuracy: 0.0390\n",
      "Epoch 28/200\n",
      "923/923 [==============================] - 0s 15us/step - loss: 0.0223 - accuracy: 0.0368 - val_loss: 0.0208 - val_accuracy: 0.0390\n",
      "Epoch 29/200\n",
      "923/923 [==============================] - 0s 12us/step - loss: 0.0212 - accuracy: 0.0368 - val_loss: 0.0198 - val_accuracy: 0.0390\n",
      "Epoch 30/200\n",
      "923/923 [==============================] - 0s 12us/step - loss: 0.0202 - accuracy: 0.0368 - val_loss: 0.0189 - val_accuracy: 0.0390\n",
      "Epoch 31/200\n",
      "923/923 [==============================] - 0s 13us/step - loss: 0.0194 - accuracy: 0.0368 - val_loss: 0.0181 - val_accuracy: 0.0390\n",
      "Epoch 32/200\n",
      "923/923 [==============================] - 0s 12us/step - loss: 0.0187 - accuracy: 0.0368 - val_loss: 0.0175 - val_accuracy: 0.0390\n",
      "Epoch 33/200\n",
      "923/923 [==============================] - 0s 12us/step - loss: 0.0181 - accuracy: 0.0368 - val_loss: 0.0169 - val_accuracy: 0.0390\n",
      "Epoch 34/200\n",
      "923/923 [==============================] - 0s 11us/step - loss: 0.0176 - accuracy: 0.0368 - val_loss: 0.0165 - val_accuracy: 0.0390\n",
      "Epoch 35/200\n",
      "923/923 [==============================] - 0s 15us/step - loss: 0.0171 - accuracy: 0.1398 - val_loss: 0.0161 - val_accuracy: 0.5801\n",
      "Epoch 36/200\n",
      "923/923 [==============================] - 0s 11us/step - loss: 0.0168 - accuracy: 0.6089 - val_loss: 0.0158 - val_accuracy: 0.6061\n",
      "Epoch 37/200\n",
      "923/923 [==============================] - 0s 13us/step - loss: 0.0165 - accuracy: 0.6132 - val_loss: 0.0155 - val_accuracy: 0.6061\n",
      "Epoch 38/200\n",
      "923/923 [==============================] - 0s 14us/step - loss: 0.0162 - accuracy: 0.6132 - val_loss: 0.0153 - val_accuracy: 0.6061\n",
      "Epoch 39/200\n",
      "923/923 [==============================] - 0s 13us/step - loss: 0.0161 - accuracy: 0.6132 - val_loss: 0.0152 - val_accuracy: 0.6061\n",
      "Epoch 40/200\n",
      "923/923 [==============================] - 0s 13us/step - loss: 0.0159 - accuracy: 0.6132 - val_loss: 0.0150 - val_accuracy: 0.6061\n",
      "Epoch 41/200\n",
      "923/923 [==============================] - 0s 12us/step - loss: 0.0158 - accuracy: 0.6132 - val_loss: 0.0149 - val_accuracy: 0.6061\n",
      "Epoch 42/200\n",
      "923/923 [==============================] - 0s 14us/step - loss: 0.0157 - accuracy: 0.6132 - val_loss: 0.0149 - val_accuracy: 0.6061\n",
      "Epoch 43/200\n",
      "923/923 [==============================] - 0s 13us/step - loss: 0.0156 - accuracy: 0.6132 - val_loss: 0.0148 - val_accuracy: 0.6061\n",
      "Epoch 44/200\n",
      "923/923 [==============================] - 0s 13us/step - loss: 0.0156 - accuracy: 0.6132 - val_loss: 0.0148 - val_accuracy: 0.6061\n",
      "Epoch 45/200\n",
      "923/923 [==============================] - 0s 13us/step - loss: 0.0155 - accuracy: 0.6132 - val_loss: 0.0147 - val_accuracy: 0.6061\n",
      "Epoch 46/200\n",
      "923/923 [==============================] - 0s 14us/step - loss: 0.0155 - accuracy: 0.6132 - val_loss: 0.0147 - val_accuracy: 0.6061\n",
      "Epoch 47/200\n",
      "923/923 [==============================] - 0s 13us/step - loss: 0.0155 - accuracy: 0.6132 - val_loss: 0.0147 - val_accuracy: 0.6061\n",
      "Epoch 48/200\n",
      "923/923 [==============================] - 0s 14us/step - loss: 0.0155 - accuracy: 0.6132 - val_loss: 0.0146 - val_accuracy: 0.6061\n",
      "Epoch 49/200\n",
      "923/923 [==============================] - 0s 13us/step - loss: 0.0154 - accuracy: 0.6132 - val_loss: 0.0146 - val_accuracy: 0.6061\n",
      "Epoch 50/200\n",
      "923/923 [==============================] - 0s 14us/step - loss: 0.0154 - accuracy: 0.6132 - val_loss: 0.0146 - val_accuracy: 0.6061\n",
      "Epoch 51/200\n",
      "923/923 [==============================] - 0s 14us/step - loss: 0.0154 - accuracy: 0.6132 - val_loss: 0.0146 - val_accuracy: 0.6061\n",
      "Epoch 52/200\n",
      "923/923 [==============================] - 0s 14us/step - loss: 0.0154 - accuracy: 0.6132 - val_loss: 0.0146 - val_accuracy: 0.6061\n",
      "Epoch 53/200\n",
      "923/923 [==============================] - 0s 13us/step - loss: 0.0154 - accuracy: 0.6132 - val_loss: 0.0146 - val_accuracy: 0.6061\n",
      "Epoch 54/200\n",
      "923/923 [==============================] - 0s 12us/step - loss: 0.0154 - accuracy: 0.6132 - val_loss: 0.0146 - val_accuracy: 0.6061\n",
      "Epoch 55/200\n"
     ]
    },
    {
     "name": "stdout",
     "output_type": "stream",
     "text": [
      "923/923 [==============================] - 0s 14us/step - loss: 0.0154 - accuracy: 0.6132 - val_loss: 0.0146 - val_accuracy: 0.6061\n",
      "Epoch 56/200\n",
      "923/923 [==============================] - 0s 15us/step - loss: 0.0154 - accuracy: 0.6132 - val_loss: 0.0146 - val_accuracy: 0.6061\n",
      "Epoch 57/200\n",
      "923/923 [==============================] - 0s 15us/step - loss: 0.0154 - accuracy: 0.6132 - val_loss: 0.0146 - val_accuracy: 0.6061\n",
      "Epoch 58/200\n",
      "923/923 [==============================] - 0s 14us/step - loss: 0.0154 - accuracy: 0.6132 - val_loss: 0.0146 - val_accuracy: 0.6061\n",
      "Epoch 59/200\n",
      "923/923 [==============================] - 0s 12us/step - loss: 0.0154 - accuracy: 0.6132 - val_loss: 0.0146 - val_accuracy: 0.6061\n",
      "Epoch 60/200\n",
      "923/923 [==============================] - 0s 12us/step - loss: 0.0154 - accuracy: 0.6132 - val_loss: 0.0146 - val_accuracy: 0.6061\n",
      "Epoch 61/200\n",
      "923/923 [==============================] - 0s 12us/step - loss: 0.0154 - accuracy: 0.6132 - val_loss: 0.0146 - val_accuracy: 0.6061\n",
      "Epoch 62/200\n",
      "923/923 [==============================] - 0s 13us/step - loss: 0.0154 - accuracy: 0.6132 - val_loss: 0.0146 - val_accuracy: 0.6061\n",
      "Epoch 63/200\n",
      "923/923 [==============================] - 0s 14us/step - loss: 0.0154 - accuracy: 0.6132 - val_loss: 0.0146 - val_accuracy: 0.6061\n",
      "Epoch 64/200\n",
      "923/923 [==============================] - 0s 12us/step - loss: 0.0154 - accuracy: 0.6132 - val_loss: 0.0146 - val_accuracy: 0.6061\n",
      "Epoch 65/200\n",
      "923/923 [==============================] - 0s 11us/step - loss: 0.0154 - accuracy: 0.6132 - val_loss: 0.0146 - val_accuracy: 0.6061\n",
      "Epoch 66/200\n",
      "923/923 [==============================] - 0s 13us/step - loss: 0.0154 - accuracy: 0.6132 - val_loss: 0.0146 - val_accuracy: 0.6061\n",
      "Epoch 67/200\n",
      "923/923 [==============================] - 0s 11us/step - loss: 0.0154 - accuracy: 0.6132 - val_loss: 0.0146 - val_accuracy: 0.6061\n",
      "Epoch 68/200\n",
      "923/923 [==============================] - 0s 13us/step - loss: 0.0154 - accuracy: 0.6132 - val_loss: 0.0146 - val_accuracy: 0.6061\n",
      "Epoch 69/200\n",
      "923/923 [==============================] - 0s 14us/step - loss: 0.0154 - accuracy: 0.6132 - val_loss: 0.0145 - val_accuracy: 0.6061\n",
      "Epoch 70/200\n",
      "923/923 [==============================] - 0s 13us/step - loss: 0.0154 - accuracy: 0.6132 - val_loss: 0.0145 - val_accuracy: 0.6061\n",
      "Epoch 71/200\n",
      "923/923 [==============================] - 0s 12us/step - loss: 0.0154 - accuracy: 0.6132 - val_loss: 0.0145 - val_accuracy: 0.6061\n",
      "Epoch 72/200\n",
      "923/923 [==============================] - 0s 12us/step - loss: 0.0154 - accuracy: 0.6132 - val_loss: 0.0145 - val_accuracy: 0.6061\n",
      "Epoch 73/200\n",
      "923/923 [==============================] - 0s 14us/step - loss: 0.0154 - accuracy: 0.6132 - val_loss: 0.0145 - val_accuracy: 0.6061\n",
      "Epoch 74/200\n",
      "923/923 [==============================] - 0s 12us/step - loss: 0.0154 - accuracy: 0.6132 - val_loss: 0.0146 - val_accuracy: 0.6061\n",
      "Epoch 75/200\n",
      "923/923 [==============================] - 0s 12us/step - loss: 0.0154 - accuracy: 0.6132 - val_loss: 0.0146 - val_accuracy: 0.6061\n",
      "Epoch 76/200\n",
      "923/923 [==============================] - 0s 12us/step - loss: 0.0154 - accuracy: 0.6132 - val_loss: 0.0146 - val_accuracy: 0.6061\n",
      "Epoch 77/200\n",
      "923/923 [==============================] - 0s 12us/step - loss: 0.0154 - accuracy: 0.6132 - val_loss: 0.0145 - val_accuracy: 0.6061\n",
      "Epoch 78/200\n",
      "923/923 [==============================] - 0s 13us/step - loss: 0.0154 - accuracy: 0.6132 - val_loss: 0.0145 - val_accuracy: 0.6061\n",
      "Epoch 79/200\n",
      "923/923 [==============================] - 0s 11us/step - loss: 0.0154 - accuracy: 0.6132 - val_loss: 0.0145 - val_accuracy: 0.6061\n",
      "Epoch 80/200\n",
      "923/923 [==============================] - 0s 12us/step - loss: 0.0154 - accuracy: 0.6132 - val_loss: 0.0145 - val_accuracy: 0.6061\n",
      "Epoch 81/200\n",
      "923/923 [==============================] - 0s 13us/step - loss: 0.0154 - accuracy: 0.6132 - val_loss: 0.0145 - val_accuracy: 0.6061\n",
      "Epoch 82/200\n",
      "923/923 [==============================] - 0s 11us/step - loss: 0.0154 - accuracy: 0.6132 - val_loss: 0.0145 - val_accuracy: 0.6061\n",
      "Epoch 83/200\n",
      "923/923 [==============================] - 0s 12us/step - loss: 0.0154 - accuracy: 0.6132 - val_loss: 0.0145 - val_accuracy: 0.6061\n",
      "Epoch 84/200\n",
      "923/923 [==============================] - 0s 12us/step - loss: 0.0154 - accuracy: 0.6132 - val_loss: 0.0145 - val_accuracy: 0.6061\n",
      "Epoch 85/200\n",
      "923/923 [==============================] - 0s 13us/step - loss: 0.0154 - accuracy: 0.6132 - val_loss: 0.0145 - val_accuracy: 0.6061\n",
      "Epoch 86/200\n",
      "923/923 [==============================] - 0s 13us/step - loss: 0.0154 - accuracy: 0.6132 - val_loss: 0.0145 - val_accuracy: 0.6061\n",
      "Epoch 87/200\n",
      "923/923 [==============================] - 0s 12us/step - loss: 0.0154 - accuracy: 0.6132 - val_loss: 0.0145 - val_accuracy: 0.6061\n",
      "Epoch 88/200\n",
      "923/923 [==============================] - 0s 13us/step - loss: 0.0154 - accuracy: 0.6132 - val_loss: 0.0145 - val_accuracy: 0.6061\n",
      "Epoch 89/200\n",
      "923/923 [==============================] - 0s 14us/step - loss: 0.0154 - accuracy: 0.6132 - val_loss: 0.0145 - val_accuracy: 0.6061\n",
      "Epoch 90/200\n",
      "923/923 [==============================] - 0s 12us/step - loss: 0.0154 - accuracy: 0.6132 - val_loss: 0.0145 - val_accuracy: 0.6061\n",
      "Epoch 91/200\n",
      "923/923 [==============================] - 0s 12us/step - loss: 0.0154 - accuracy: 0.6132 - val_loss: 0.0145 - val_accuracy: 0.6061\n",
      "Epoch 92/200\n",
      "923/923 [==============================] - 0s 12us/step - loss: 0.0154 - accuracy: 0.6132 - val_loss: 0.0145 - val_accuracy: 0.6061\n",
      "Epoch 93/200\n",
      "923/923 [==============================] - 0s 14us/step - loss: 0.0154 - accuracy: 0.6132 - val_loss: 0.0145 - val_accuracy: 0.6061\n",
      "Epoch 94/200\n",
      "923/923 [==============================] - 0s 12us/step - loss: 0.0154 - accuracy: 0.6132 - val_loss: 0.0145 - val_accuracy: 0.6061\n",
      "Epoch 95/200\n",
      "923/923 [==============================] - 0s 14us/step - loss: 0.0154 - accuracy: 0.6132 - val_loss: 0.0145 - val_accuracy: 0.6061\n",
      "Epoch 96/200\n",
      "923/923 [==============================] - 0s 13us/step - loss: 0.0154 - accuracy: 0.6132 - val_loss: 0.0145 - val_accuracy: 0.6061\n",
      "Epoch 97/200\n",
      "923/923 [==============================] - 0s 12us/step - loss: 0.0154 - accuracy: 0.6132 - val_loss: 0.0145 - val_accuracy: 0.6061\n",
      "Epoch 98/200\n",
      "923/923 [==============================] - 0s 13us/step - loss: 0.0154 - accuracy: 0.6132 - val_loss: 0.0145 - val_accuracy: 0.6061\n",
      "Epoch 99/200\n",
      "923/923 [==============================] - 0s 13us/step - loss: 0.0154 - accuracy: 0.6132 - val_loss: 0.0145 - val_accuracy: 0.6061\n",
      "Epoch 100/200\n",
      "923/923 [==============================] - 0s 12us/step - loss: 0.0154 - accuracy: 0.6132 - val_loss: 0.0145 - val_accuracy: 0.6061\n",
      "Epoch 101/200\n",
      "923/923 [==============================] - 0s 12us/step - loss: 0.0154 - accuracy: 0.6132 - val_loss: 0.0145 - val_accuracy: 0.6061\n",
      "Epoch 102/200\n",
      "923/923 [==============================] - 0s 12us/step - loss: 0.0154 - accuracy: 0.6132 - val_loss: 0.0145 - val_accuracy: 0.6061\n",
      "Epoch 103/200\n",
      "923/923 [==============================] - 0s 12us/step - loss: 0.0154 - accuracy: 0.6132 - val_loss: 0.0145 - val_accuracy: 0.6061\n",
      "Epoch 104/200\n",
      "923/923 [==============================] - 0s 14us/step - loss: 0.0154 - accuracy: 0.6132 - val_loss: 0.0145 - val_accuracy: 0.6061\n",
      "Epoch 105/200\n",
      "923/923 [==============================] - 0s 12us/step - loss: 0.0154 - accuracy: 0.6132 - val_loss: 0.0145 - val_accuracy: 0.6061\n",
      "Epoch 106/200\n",
      "923/923 [==============================] - 0s 14us/step - loss: 0.0154 - accuracy: 0.6132 - val_loss: 0.0145 - val_accuracy: 0.6061\n",
      "Epoch 107/200\n",
      "923/923 [==============================] - 0s 12us/step - loss: 0.0154 - accuracy: 0.6132 - val_loss: 0.0145 - val_accuracy: 0.6061\n",
      "Epoch 108/200\n",
      "923/923 [==============================] - 0s 12us/step - loss: 0.0154 - accuracy: 0.6132 - val_loss: 0.0145 - val_accuracy: 0.6061\n",
      "Epoch 109/200\n",
      "923/923 [==============================] - 0s 12us/step - loss: 0.0154 - accuracy: 0.6132 - val_loss: 0.0145 - val_accuracy: 0.6061\n",
      "Epoch 110/200\n",
      "923/923 [==============================] - 0s 12us/step - loss: 0.0154 - accuracy: 0.6132 - val_loss: 0.0145 - val_accuracy: 0.6061\n",
      "Epoch 111/200\n"
     ]
    },
    {
     "name": "stdout",
     "output_type": "stream",
     "text": [
      "923/923 [==============================] - 0s 13us/step - loss: 0.0154 - accuracy: 0.6132 - val_loss: 0.0145 - val_accuracy: 0.6061\n",
      "Epoch 112/200\n",
      "923/923 [==============================] - 0s 12us/step - loss: 0.0154 - accuracy: 0.6132 - val_loss: 0.0145 - val_accuracy: 0.6061\n",
      "Epoch 113/200\n",
      "923/923 [==============================] - 0s 14us/step - loss: 0.0154 - accuracy: 0.6132 - val_loss: 0.0145 - val_accuracy: 0.6061\n",
      "Epoch 114/200\n",
      "923/923 [==============================] - 0s 12us/step - loss: 0.0154 - accuracy: 0.6132 - val_loss: 0.0145 - val_accuracy: 0.6061\n",
      "Epoch 115/200\n",
      "923/923 [==============================] - 0s 12us/step - loss: 0.0154 - accuracy: 0.6132 - val_loss: 0.0145 - val_accuracy: 0.6061\n",
      "Epoch 116/200\n",
      "923/923 [==============================] - 0s 12us/step - loss: 0.0154 - accuracy: 0.6132 - val_loss: 0.0145 - val_accuracy: 0.6061\n",
      "Epoch 117/200\n",
      "923/923 [==============================] - 0s 11us/step - loss: 0.0154 - accuracy: 0.6132 - val_loss: 0.0145 - val_accuracy: 0.6061\n",
      "Epoch 118/200\n",
      "923/923 [==============================] - 0s 12us/step - loss: 0.0154 - accuracy: 0.6132 - val_loss: 0.0145 - val_accuracy: 0.6061\n",
      "Epoch 119/200\n",
      "923/923 [==============================] - 0s 11us/step - loss: 0.0154 - accuracy: 0.6132 - val_loss: 0.0145 - val_accuracy: 0.6061\n",
      "Epoch 120/200\n",
      "923/923 [==============================] - 0s 12us/step - loss: 0.0154 - accuracy: 0.6132 - val_loss: 0.0145 - val_accuracy: 0.6061\n",
      "Epoch 121/200\n",
      "923/923 [==============================] - 0s 11us/step - loss: 0.0154 - accuracy: 0.6132 - val_loss: 0.0145 - val_accuracy: 0.6061\n",
      "Epoch 122/200\n",
      "923/923 [==============================] - 0s 11us/step - loss: 0.0154 - accuracy: 0.6132 - val_loss: 0.0145 - val_accuracy: 0.6061\n",
      "Epoch 123/200\n",
      "923/923 [==============================] - 0s 11us/step - loss: 0.0154 - accuracy: 0.6132 - val_loss: 0.0145 - val_accuracy: 0.6061\n",
      "Epoch 124/200\n",
      "923/923 [==============================] - 0s 12us/step - loss: 0.0154 - accuracy: 0.6132 - val_loss: 0.0145 - val_accuracy: 0.6061\n",
      "Epoch 125/200\n",
      "923/923 [==============================] - 0s 11us/step - loss: 0.0154 - accuracy: 0.6132 - val_loss: 0.0145 - val_accuracy: 0.6061\n",
      "Epoch 126/200\n",
      "923/923 [==============================] - 0s 11us/step - loss: 0.0154 - accuracy: 0.6132 - val_loss: 0.0145 - val_accuracy: 0.6061\n",
      "Epoch 127/200\n",
      "923/923 [==============================] - 0s 12us/step - loss: 0.0154 - accuracy: 0.6132 - val_loss: 0.0145 - val_accuracy: 0.6061\n",
      "Epoch 128/200\n",
      "923/923 [==============================] - 0s 12us/step - loss: 0.0154 - accuracy: 0.6132 - val_loss: 0.0145 - val_accuracy: 0.6061\n",
      "Epoch 129/200\n",
      "923/923 [==============================] - 0s 12us/step - loss: 0.0154 - accuracy: 0.6132 - val_loss: 0.0145 - val_accuracy: 0.6061\n",
      "Epoch 130/200\n",
      "923/923 [==============================] - 0s 12us/step - loss: 0.0154 - accuracy: 0.6132 - val_loss: 0.0145 - val_accuracy: 0.6061\n",
      "Epoch 131/200\n",
      "923/923 [==============================] - 0s 12us/step - loss: 0.0154 - accuracy: 0.6132 - val_loss: 0.0145 - val_accuracy: 0.6061\n",
      "Epoch 132/200\n",
      "923/923 [==============================] - 0s 12us/step - loss: 0.0154 - accuracy: 0.6132 - val_loss: 0.0145 - val_accuracy: 0.6061\n",
      "Epoch 133/200\n",
      "923/923 [==============================] - 0s 12us/step - loss: 0.0154 - accuracy: 0.6132 - val_loss: 0.0145 - val_accuracy: 0.6061\n",
      "Epoch 134/200\n",
      "923/923 [==============================] - 0s 12us/step - loss: 0.0154 - accuracy: 0.6132 - val_loss: 0.0145 - val_accuracy: 0.6061\n",
      "Epoch 135/200\n",
      "923/923 [==============================] - 0s 12us/step - loss: 0.0154 - accuracy: 0.6132 - val_loss: 0.0145 - val_accuracy: 0.6061\n",
      "Epoch 136/200\n",
      "923/923 [==============================] - 0s 14us/step - loss: 0.0154 - accuracy: 0.6132 - val_loss: 0.0145 - val_accuracy: 0.6061\n",
      "Epoch 137/200\n",
      "923/923 [==============================] - 0s 11us/step - loss: 0.0154 - accuracy: 0.6132 - val_loss: 0.0145 - val_accuracy: 0.6061\n",
      "Epoch 138/200\n",
      "923/923 [==============================] - 0s 12us/step - loss: 0.0154 - accuracy: 0.6132 - val_loss: 0.0145 - val_accuracy: 0.6061\n",
      "Epoch 139/200\n",
      "923/923 [==============================] - 0s 12us/step - loss: 0.0154 - accuracy: 0.6132 - val_loss: 0.0145 - val_accuracy: 0.6061\n",
      "Epoch 140/200\n",
      "923/923 [==============================] - 0s 12us/step - loss: 0.0154 - accuracy: 0.6132 - val_loss: 0.0145 - val_accuracy: 0.6061\n",
      "Epoch 141/200\n",
      "923/923 [==============================] - 0s 12us/step - loss: 0.0154 - accuracy: 0.6132 - val_loss: 0.0145 - val_accuracy: 0.6061\n",
      "Epoch 142/200\n",
      "923/923 [==============================] - 0s 12us/step - loss: 0.0154 - accuracy: 0.6132 - val_loss: 0.0145 - val_accuracy: 0.6061\n",
      "Epoch 143/200\n",
      "923/923 [==============================] - 0s 11us/step - loss: 0.0154 - accuracy: 0.6132 - val_loss: 0.0145 - val_accuracy: 0.6061\n",
      "Epoch 144/200\n",
      "923/923 [==============================] - 0s 12us/step - loss: 0.0154 - accuracy: 0.6132 - val_loss: 0.0145 - val_accuracy: 0.6061\n",
      "Epoch 145/200\n",
      "923/923 [==============================] - 0s 11us/step - loss: 0.0154 - accuracy: 0.6132 - val_loss: 0.0145 - val_accuracy: 0.6061\n",
      "Epoch 146/200\n",
      "923/923 [==============================] - 0s 12us/step - loss: 0.0154 - accuracy: 0.6132 - val_loss: 0.0145 - val_accuracy: 0.6061\n",
      "Epoch 147/200\n",
      "923/923 [==============================] - 0s 11us/step - loss: 0.0154 - accuracy: 0.6132 - val_loss: 0.0145 - val_accuracy: 0.6061\n",
      "Epoch 148/200\n",
      "923/923 [==============================] - 0s 12us/step - loss: 0.0154 - accuracy: 0.6132 - val_loss: 0.0145 - val_accuracy: 0.6061\n",
      "Epoch 149/200\n",
      "923/923 [==============================] - 0s 12us/step - loss: 0.0154 - accuracy: 0.6132 - val_loss: 0.0145 - val_accuracy: 0.6061\n",
      "Epoch 150/200\n",
      "923/923 [==============================] - 0s 11us/step - loss: 0.0154 - accuracy: 0.6132 - val_loss: 0.0145 - val_accuracy: 0.6061\n",
      "Epoch 151/200\n",
      "923/923 [==============================] - 0s 12us/step - loss: 0.0154 - accuracy: 0.6132 - val_loss: 0.0145 - val_accuracy: 0.6061\n",
      "Epoch 152/200\n",
      "923/923 [==============================] - 0s 12us/step - loss: 0.0154 - accuracy: 0.6132 - val_loss: 0.0145 - val_accuracy: 0.6061\n",
      "Epoch 153/200\n",
      "923/923 [==============================] - 0s 12us/step - loss: 0.0154 - accuracy: 0.6132 - val_loss: 0.0145 - val_accuracy: 0.6061\n",
      "Epoch 154/200\n",
      "923/923 [==============================] - 0s 13us/step - loss: 0.0154 - accuracy: 0.6132 - val_loss: 0.0145 - val_accuracy: 0.6061\n",
      "Epoch 155/200\n",
      "923/923 [==============================] - 0s 12us/step - loss: 0.0154 - accuracy: 0.6132 - val_loss: 0.0145 - val_accuracy: 0.6061\n",
      "Epoch 156/200\n",
      "923/923 [==============================] - 0s 12us/step - loss: 0.0154 - accuracy: 0.6132 - val_loss: 0.0145 - val_accuracy: 0.6061\n",
      "Epoch 157/200\n",
      "923/923 [==============================] - 0s 12us/step - loss: 0.0154 - accuracy: 0.6132 - val_loss: 0.0145 - val_accuracy: 0.6061\n",
      "Epoch 158/200\n",
      "923/923 [==============================] - 0s 12us/step - loss: 0.0154 - accuracy: 0.6132 - val_loss: 0.0145 - val_accuracy: 0.6061\n",
      "Epoch 159/200\n",
      "923/923 [==============================] - 0s 12us/step - loss: 0.0154 - accuracy: 0.6132 - val_loss: 0.0145 - val_accuracy: 0.6061\n",
      "Epoch 160/200\n",
      "923/923 [==============================] - 0s 12us/step - loss: 0.0154 - accuracy: 0.6132 - val_loss: 0.0145 - val_accuracy: 0.6061\n",
      "Epoch 161/200\n",
      "923/923 [==============================] - 0s 12us/step - loss: 0.0154 - accuracy: 0.6132 - val_loss: 0.0145 - val_accuracy: 0.6061\n",
      "Epoch 162/200\n",
      "923/923 [==============================] - 0s 12us/step - loss: 0.0154 - accuracy: 0.6132 - val_loss: 0.0145 - val_accuracy: 0.6061\n",
      "Epoch 163/200\n",
      "923/923 [==============================] - 0s 12us/step - loss: 0.0154 - accuracy: 0.6132 - val_loss: 0.0145 - val_accuracy: 0.6061\n",
      "Epoch 164/200\n",
      "923/923 [==============================] - 0s 14us/step - loss: 0.0154 - accuracy: 0.6132 - val_loss: 0.0145 - val_accuracy: 0.6061\n",
      "Epoch 165/200\n",
      "923/923 [==============================] - 0s 13us/step - loss: 0.0154 - accuracy: 0.6132 - val_loss: 0.0145 - val_accuracy: 0.6061\n",
      "Epoch 166/200\n",
      "923/923 [==============================] - 0s 12us/step - loss: 0.0154 - accuracy: 0.6132 - val_loss: 0.0145 - val_accuracy: 0.6061\n",
      "Epoch 167/200\n"
     ]
    },
    {
     "name": "stdout",
     "output_type": "stream",
     "text": [
      "923/923 [==============================] - 0s 12us/step - loss: 0.0154 - accuracy: 0.6132 - val_loss: 0.0145 - val_accuracy: 0.6061\n",
      "Epoch 168/200\n",
      "923/923 [==============================] - 0s 12us/step - loss: 0.0154 - accuracy: 0.6132 - val_loss: 0.0145 - val_accuracy: 0.6061\n",
      "Epoch 169/200\n",
      "923/923 [==============================] - 0s 12us/step - loss: 0.0154 - accuracy: 0.6132 - val_loss: 0.0145 - val_accuracy: 0.6061\n",
      "Epoch 170/200\n",
      "923/923 [==============================] - 0s 11us/step - loss: 0.0154 - accuracy: 0.6132 - val_loss: 0.0145 - val_accuracy: 0.6061\n",
      "Epoch 171/200\n",
      "923/923 [==============================] - 0s 11us/step - loss: 0.0154 - accuracy: 0.6132 - val_loss: 0.0145 - val_accuracy: 0.6061\n",
      "Epoch 172/200\n",
      "923/923 [==============================] - 0s 12us/step - loss: 0.0154 - accuracy: 0.6132 - val_loss: 0.0145 - val_accuracy: 0.6061\n",
      "Epoch 173/200\n",
      "923/923 [==============================] - 0s 11us/step - loss: 0.0154 - accuracy: 0.6132 - val_loss: 0.0145 - val_accuracy: 0.6061\n",
      "Epoch 174/200\n",
      "923/923 [==============================] - 0s 12us/step - loss: 0.0154 - accuracy: 0.6132 - val_loss: 0.0145 - val_accuracy: 0.6061\n",
      "Epoch 175/200\n",
      "923/923 [==============================] - 0s 12us/step - loss: 0.0154 - accuracy: 0.6132 - val_loss: 0.0145 - val_accuracy: 0.6061\n",
      "Epoch 176/200\n",
      "923/923 [==============================] - 0s 12us/step - loss: 0.0154 - accuracy: 0.6132 - val_loss: 0.0145 - val_accuracy: 0.6061\n",
      "Epoch 177/200\n",
      "923/923 [==============================] - 0s 11us/step - loss: 0.0154 - accuracy: 0.6132 - val_loss: 0.0145 - val_accuracy: 0.6061\n",
      "Epoch 178/200\n",
      "923/923 [==============================] - 0s 11us/step - loss: 0.0154 - accuracy: 0.6132 - val_loss: 0.0145 - val_accuracy: 0.6061\n",
      "Epoch 179/200\n",
      "923/923 [==============================] - 0s 12us/step - loss: 0.0154 - accuracy: 0.6132 - val_loss: 0.0145 - val_accuracy: 0.6061\n",
      "Epoch 180/200\n",
      "923/923 [==============================] - 0s 11us/step - loss: 0.0154 - accuracy: 0.6132 - val_loss: 0.0145 - val_accuracy: 0.6061\n",
      "Epoch 181/200\n",
      "923/923 [==============================] - 0s 11us/step - loss: 0.0154 - accuracy: 0.6132 - val_loss: 0.0145 - val_accuracy: 0.6061\n",
      "Epoch 182/200\n",
      "923/923 [==============================] - 0s 12us/step - loss: 0.0154 - accuracy: 0.6132 - val_loss: 0.0145 - val_accuracy: 0.6061\n",
      "Epoch 183/200\n",
      "923/923 [==============================] - 0s 12us/step - loss: 0.0154 - accuracy: 0.6132 - val_loss: 0.0145 - val_accuracy: 0.6061\n",
      "Epoch 184/200\n",
      "923/923 [==============================] - 0s 12us/step - loss: 0.0154 - accuracy: 0.6132 - val_loss: 0.0145 - val_accuracy: 0.6061\n",
      "Epoch 185/200\n",
      "923/923 [==============================] - 0s 14us/step - loss: 0.0154 - accuracy: 0.6132 - val_loss: 0.0145 - val_accuracy: 0.6061\n",
      "Epoch 186/200\n",
      "923/923 [==============================] - 0s 13us/step - loss: 0.0154 - accuracy: 0.6132 - val_loss: 0.0145 - val_accuracy: 0.6061\n",
      "Epoch 187/200\n",
      "923/923 [==============================] - 0s 11us/step - loss: 0.0154 - accuracy: 0.6132 - val_loss: 0.0145 - val_accuracy: 0.6061\n",
      "Epoch 188/200\n",
      "923/923 [==============================] - 0s 12us/step - loss: 0.0154 - accuracy: 0.6132 - val_loss: 0.0145 - val_accuracy: 0.6061\n",
      "Epoch 189/200\n",
      "923/923 [==============================] - 0s 11us/step - loss: 0.0154 - accuracy: 0.6132 - val_loss: 0.0145 - val_accuracy: 0.6061\n",
      "Epoch 190/200\n",
      "923/923 [==============================] - 0s 12us/step - loss: 0.0154 - accuracy: 0.6132 - val_loss: 0.0145 - val_accuracy: 0.6061\n",
      "Epoch 191/200\n",
      "923/923 [==============================] - 0s 12us/step - loss: 0.0154 - accuracy: 0.6132 - val_loss: 0.0145 - val_accuracy: 0.6061\n",
      "Epoch 192/200\n",
      "923/923 [==============================] - 0s 12us/step - loss: 0.0154 - accuracy: 0.6132 - val_loss: 0.0145 - val_accuracy: 0.6061\n",
      "Epoch 193/200\n",
      "923/923 [==============================] - 0s 12us/step - loss: 0.0154 - accuracy: 0.6132 - val_loss: 0.0145 - val_accuracy: 0.6061\n",
      "Epoch 194/200\n",
      "923/923 [==============================] - 0s 12us/step - loss: 0.0154 - accuracy: 0.6132 - val_loss: 0.0145 - val_accuracy: 0.6061\n",
      "Epoch 195/200\n",
      "923/923 [==============================] - 0s 12us/step - loss: 0.0154 - accuracy: 0.6132 - val_loss: 0.0145 - val_accuracy: 0.6061\n",
      "Epoch 196/200\n",
      "923/923 [==============================] - 0s 12us/step - loss: 0.0154 - accuracy: 0.6132 - val_loss: 0.0145 - val_accuracy: 0.6061\n",
      "Epoch 197/200\n",
      "923/923 [==============================] - 0s 12us/step - loss: 0.0154 - accuracy: 0.6132 - val_loss: 0.0145 - val_accuracy: 0.6061\n",
      "Epoch 198/200\n",
      "923/923 [==============================] - 0s 12us/step - loss: 0.0154 - accuracy: 0.6132 - val_loss: 0.0145 - val_accuracy: 0.6061\n",
      "Epoch 199/200\n",
      "923/923 [==============================] - 0s 12us/step - loss: 0.0154 - accuracy: 0.6132 - val_loss: 0.0145 - val_accuracy: 0.6061\n",
      "Epoch 200/200\n",
      "923/923 [==============================] - 0s 12us/step - loss: 0.0154 - accuracy: 0.6132 - val_loss: 0.0145 - val_accuracy: 0.6061\n"
     ]
    }
   ],
   "source": [
    "autoencoder.compile(metrics=['accuracy'],\n",
    "                    loss='mean_squared_error',\n",
    "                    optimizer='adam')\n",
    "\n",
    "cp = ModelCheckpoint(filepath=\"autoencoder_classifier.h5\",\n",
    "                               save_best_only=True,\n",
    "                               verbose=0)\n",
    "\n",
    "tb = TensorBoard(log_dir='./logs',\n",
    "                histogram_freq=0,\n",
    "                write_graph=True,\n",
    "                write_images=True)\n",
    "\n",
    "history = autoencoder.fit(df_train_0_x_rescaled, df_train_0_x_rescaled,\n",
    "                    epochs=nb_epoch,\n",
    "                    batch_size=batch_size,\n",
    "                    shuffle=True,\n",
    "                    validation_data=(df_valid_0_x_rescaled, df_valid_0_x_rescaled),\n",
    "                    verbose=1,\n",
    "                    callbacks=[cp, tb]).history"
   ]
  },
  {
   "cell_type": "code",
   "execution_count": 16,
   "metadata": {},
   "outputs": [],
   "source": [
    "autoencoder = load_model('autoencoder_classifier.h5')"
   ]
  },
  {
   "cell_type": "code",
   "execution_count": 17,
   "metadata": {},
   "outputs": [
    {
     "data": {
      "image/png": "[encoded data removed]",
      "text/plain": [
       "<Figure size 576x432 with 1 Axes>"
      ]
     },
     "metadata": {
      "needs_background": "light"
     },
     "output_type": "display_data"
    }
   ],
   "source": [
    "plt.plot(history['loss'], linewidth=2, label='Train')\n",
    "plt.plot(history['val_loss'], linewidth=2, label='Valid')\n",
    "plt.legend(loc='upper right')\n",
    "plt.title('Model loss')\n",
    "plt.ylabel('Loss')\n",
    "plt.xlabel('Epoch')\n",
    "plt.show()"
   ]
  },
  {
   "cell_type": "code",
   "execution_count": 18,
   "metadata": {},
   "outputs": [
    {
     "data": {
      "image/png": "[encoded data removed]",
      "text/plain": [
       "<Figure size 576x432 with 1 Axes>"
      ]
     },
     "metadata": {
      "needs_background": "light"
     },
     "output_type": "display_data"
    }
   ],
   "source": [
    "valid_x_predictions = autoencoder.predict(df_valid_x_rescaled)\n",
    "mse = np.mean(np.power(df_valid_x_rescaled - valid_x_predictions, 2), axis=1)\n",
    "error_df = pd.DataFrame({'Reconstruction_error': mse,\n",
    "                        'True_class': df_valid['y']})\n",
    "\n",
    "precision_rt, recall_rt, threshold_rt = precision_recall_curve(error_df.True_class, error_df.Reconstruction_error)\n",
    "plt.plot(threshold_rt, precision_rt[1:], label=\"Precision\",linewidth=5)\n",
    "plt.plot(threshold_rt, recall_rt[1:], label=\"Recall\",linewidth=5)\n",
    "plt.title('Precision and recall for different threshold values')\n",
    "plt.xlabel('Threshold')\n",
    "plt.ylabel('Precision/Recall')\n",
    "plt.legend()\n",
    "plt.show()"
   ]
  },
  {
   "cell_type": "code",
   "execution_count": 19,
   "metadata": {},
   "outputs": [
    {
     "data": {
      "text/plain": [
       "True_class\n",
       "0.0    0.014496\n",
       "1.0    0.021091\n",
       "Name: Reconstruction_error, dtype: float64"
      ]
     },
     "execution_count": 19,
     "metadata": {},
     "output_type": "execute_result"
    }
   ],
   "source": [
    "error_df.groupby('True_class')['Reconstruction_error'].mean()"
   ]
  },
  {
   "cell_type": "code",
   "execution_count": 20,
   "metadata": {},
   "outputs": [
    {
     "data": {
      "image/png": "[encoded data removed]",
      "text/plain": [
       "<Figure size 576x432 with 1 Axes>"
      ]
     },
     "metadata": {
      "needs_background": "light"
     },
     "output_type": "display_data"
    }
   ],
   "source": [
    "test_x_predictions = autoencoder.predict(df_test_x_rescaled)\n",
    "mse = np.mean(np.power(df_test_x_rescaled - test_x_predictions, 2), axis=1)\n",
    "error_df_test = pd.DataFrame({'Reconstruction_error': mse,\n",
    "                        'True_class': df_test['y']})\n",
    "error_df_test = error_df_test.reset_index()\n",
    "\n",
    "# where does this threshold come from? from visualising the chart above to balance precision and recall.\n",
    "threshold_fixed = 0.03\n",
    "\n",
    "groups = error_df_test.groupby('True_class')\n",
    "fig, ax = plt.subplots()\n",
    "for name, group in groups:\n",
    "    ax.plot(group.index, group.Reconstruction_error, marker='o', ms=3.5, linestyle='',\n",
    "            label= \"Break\" if name == 1 else \"Normal\")\n",
    "ax.hlines(threshold_fixed, ax.get_xlim()[0], ax.get_xlim()[1], colors=\"r\", zorder=100, label='Threshold')\n",
    "ax.legend()\n",
    "plt.title(\"Reconstruction error for different classes\")\n",
    "plt.ylabel(\"Reconstruction error\")\n",
    "plt.xlabel(\"Data point index\")\n",
    "plt.show();"
   ]
  },
  {
   "cell_type": "code",
   "execution_count": 21,
   "metadata": {},
   "outputs": [
    {
     "data": {
      "image/png": "[encoded data removed]",
      "text/plain": [
       "<Figure size 864x864 with 2 Axes>"
      ]
     },
     "metadata": {
      "needs_background": "light"
     },
     "output_type": "display_data"
    }
   ],
   "source": [
    "pred_y = [1 if e > threshold_fixed else 0 for e in error_df.Reconstruction_error.values]\n",
    "conf_matrix = confusion_matrix(error_df.True_class, pred_y)\n",
    "plt.figure(figsize=(12, 12))\n",
    "sns.heatmap(conf_matrix, xticklabels=LABELS, yticklabels=LABELS, annot=True, fmt=\"d\");\n",
    "plt.title(\"Confusion matrix\")\n",
    "plt.ylabel('True class')\n",
    "plt.xlabel('Predicted class')\n",
    "plt.show()"
   ]
  },
  {
   "cell_type": "code",
   "execution_count": 22,
   "metadata": {},
   "outputs": [
    {
     "data": {
      "image/png": "[encoded data removed]",
      "text/plain": [
       "<Figure size 576x432 with 1 Axes>"
      ]
     },
     "metadata": {
      "needs_background": "light"
     },
     "output_type": "display_data"
    }
   ],
   "source": [
    "false_pos_rate, true_pos_rate, thresholds = roc_curve(error_df.True_class, error_df.Reconstruction_error)\n",
    "roc_auc = auc(false_pos_rate, true_pos_rate,)\n",
    "plt.plot(false_pos_rate, true_pos_rate, linewidth=5, label='AUC = %0.3f'% roc_auc)\n",
    "plt.plot([0,1],[0,1], linewidth=5)\n",
    "plt.xlim([-0.01, 1])\n",
    "plt.ylim([0, 1.01])\n",
    "plt.legend(loc='lower right')\n",
    "plt.title('Receiver operating characteristic curve (ROC)')\n",
    "plt.ylabel('True Positive Rate')\n",
    "plt.xlabel('False Positive Rate')\n",
    "plt.show()"
   ]
  },
  {
   "cell_type": "markdown",
   "metadata": {},
   "source": [
    "## Spin up a random forest for comparison"
   ]
  },
  {
   "cell_type": "code",
   "execution_count": 23,
   "metadata": {},
   "outputs": [
    {
     "name": "stderr",
     "output_type": "stream",
     "text": [
      "/Users/tinghinyan/opt/anaconda3/envs/crisis/lib/python3.7/site-packages/ipykernel_launcher.py:15: DataConversionWarning: A column-vector y was passed when a 1d array was expected. Please change the shape of y to (n_samples,), for example using ravel().\n",
      "  from ipykernel import kernelapp as app\n"
     ]
    },
    {
     "data": {
      "text/plain": [
       "0.7051017164653529"
      ]
     },
     "execution_count": 23,
     "metadata": {},
     "output_type": "execute_result"
    }
   ],
   "source": [
    "# Train on whole training set\n",
    "y_train = df_train[['y']]\n",
    "X_train = df_train.drop(['y'], axis=1)\n",
    "scaler2 = MinMaxScaler().fit(X_train)\n",
    "\n",
    "X_train_rescaled = scaler2.transform(X_train)\n",
    "\n",
    "y_test = df_test[['y']]\n",
    "X_test = df_test.drop(['y'], axis=1)\n",
    "X_test_rescaled = scaler2.transform(X_test)\n",
    "\n",
    "# Supervised transformation based on random forests\n",
    "rf = RandomForestClassifier(max_depth=3, n_estimators=4)\n",
    "\n",
    "rf.fit(X_train_rescaled, y_train)\n",
    "\n",
    "y_pred_rf = rf.predict_proba(X_test_rescaled)[:, 1]\n",
    "fpr_rf, tpr_rf, thresholds_rf = roc_curve(y_test, y_pred_rf)\n",
    "auc_rf = auc(fpr_rf, tpr_rf)\n",
    "auc_rf"
   ]
  },
  {
   "cell_type": "markdown",
   "metadata": {},
   "source": [
    "# ROC to wrap up"
   ]
  },
  {
   "cell_type": "markdown",
   "metadata": {},
   "source": [
    "What does this all mean?\n",
    "\n",
    "1. This toy autoencoder doesn't outperform random forest.\n",
    "2. But if you want a model that has a precision of 80%, then autoencoder gives you fewer false alarms.\n",
    "3. As for the reason(s) why autoencoder doesn't do well:\n",
    "\n",
    "    a. Sample size too small, neural networks tend to work well in bigger samples.  \n",
    "    b. Neural networks need careful tuning but that's lacking in the toy model."
   ]
  },
  {
   "cell_type": "code",
   "execution_count": 24,
   "metadata": {},
   "outputs": [
    {
     "data": {
      "image/png": "[encoded data removed]",
      "text/plain": [
       "<Figure size 576x432 with 1 Axes>"
      ]
     },
     "metadata": {
      "needs_background": "light"
     },
     "output_type": "display_data"
    }
   ],
   "source": [
    "plt.figure(1)\n",
    "plt.plot([0, 1], [0, 1], 'k--')\n",
    "plt.plot(false_pos_rate, true_pos_rate, label='Autoencoder (area = {:.3f})'.format(roc_auc))\n",
    "plt.plot(fpr_rf, tpr_rf, label='RF (area = {:.3f})'.format(auc_rf))\n",
    "plt.xlabel('False positive rate')\n",
    "plt.ylabel('True positive rate')\n",
    "plt.title('ROC curve')\n",
    "plt.legend(loc='best')\n",
    "plt.show()"
   ]
  },
  {
   "cell_type": "markdown",
   "metadata": {},
   "source": [
    "# Future reference"
   ]
  },
  {
   "cell_type": "markdown",
   "metadata": {},
   "source": [
    "## Use LSTM!"
   ]
  },
  {
   "cell_type": "markdown",
   "metadata": {},
   "source": [
    "Currently we just add in year as a x variable but we can do better than that by building a RNN. LSTM is quite popular. Can also throw in a CNN in."
   ]
  },
  {
   "cell_type": "markdown",
   "metadata": {},
   "source": [
    "## Tune the model more carefully"
   ]
  },
  {
   "cell_type": "markdown",
   "metadata": {},
   "source": [
    "Self-explanatory. TBD."
   ]
  },
  {
   "cell_type": "markdown",
   "metadata": {},
   "source": [
    "## Imputing missing values"
   ]
  },
  {
   "cell_type": "markdown",
   "metadata": {},
   "source": [
    "Had the dataset been bigger than what we have, I would not have bothered to impute them. But the reality is that we do not have a big dataset."
   ]
  },
  {
   "cell_type": "markdown",
   "metadata": {},
   "source": [
    "### Get a small example going"
   ]
  },
  {
   "cell_type": "code",
   "execution_count": 25,
   "metadata": {},
   "outputs": [],
   "source": [
    "#df_trimmed = df.tail(n = 10)\n",
    "#y_trimmed = df_trimmed[['y', 'year', 'iso']]\n",
    "#X_trimmed = df_trimmed.drop(['y', 'year', 'iso'], axis=1)"
   ]
  },
  {
   "cell_type": "code",
   "execution_count": 26,
   "metadata": {},
   "outputs": [],
   "source": [
    "#X_trimmed"
   ]
  },
  {
   "cell_type": "markdown",
   "metadata": {},
   "source": [
    "### Set up a multivariate imputer"
   ]
  },
  {
   "cell_type": "code",
   "execution_count": 27,
   "metadata": {},
   "outputs": [],
   "source": [
    "#imputer = IterativeImputer(max_iter = 10, random_state = SEED)\n",
    "#imputer = KNNImputer(n_neighbors=2)\n",
    "\n",
    "#imputer.fit(X_trimmed)\n",
    "\n",
    "#X_trimmed_imputed = imputer.transform(X_trimmed)\n",
    "#X_trimmed_imputed = pd.DataFrame(data = X_trimmed_imputed, index = X_trimmed.index, columns = X_trimmed.columns)\n",
    "\n",
    "#df_trimmed_imputed = pd.concat([y_trimmed, X_trimmed_imputed], axis=1)\n",
    "#display(df_trimmed_imputed)"
   ]
  },
  {
   "cell_type": "markdown",
   "metadata": {},
   "source": [
    "### Impute by country"
   ]
  },
  {
   "cell_type": "code",
   "execution_count": 28,
   "metadata": {},
   "outputs": [],
   "source": [
    "#imputed = []\n",
    "\n",
    "#df_grouped = df.groupby('iso')\n",
    "\n",
    "#for group_name, df_group in df_grouped:\n",
    "    \n",
    "#    y_trimmed = df_group[['y', 'year', 'iso']]\n",
    "#    X_trimmed = df_group.drop(['y', 'year', 'iso'], axis=1)\n",
    "    \n",
    "    #imputer = IterativeImputer(max_iter = 10, random_state = SEED)\n",
    "#    imputer = KNNImputer(n_neighbors=2)\n",
    "#    imputer.fit(X_trimmed)\n",
    "    \n",
    "#    X_trimmed_imputed = imputer.transform(X_trimmed)\n",
    "#    X_trimmed_imputed = pd.DataFrame(data = X_trimmed_imputed,\n",
    "#                                     index = X_trimmed.index,\n",
    "#                                     columns = X_trimmed.columns)\n",
    "\n",
    "#    df_trimmed_imputed = pd.concat([y_trimmed, X_trimmed_imputed], axis=1)\n",
    "    \n",
    "#    imputed.append(df_trimmed_imputed)\n",
    "\n",
    "#df_imputed = pd.concat(imputed)"
   ]
  }
 ],
 "metadata": {
  "kernelspec": {
   "display_name": "crisis",
   "language": "python",
   "name": "crisis"
  },
  "language_info": {
   "codemirror_mode": {
    "name": "ipython",
    "version": 3
   },
   "file_extension": ".py",
   "mimetype": "text/x-python",
   "name": "python",
   "nbconvert_exporter": "python",
   "pygments_lexer": "ipython3",
   "version": "3.7.0"
  }
 },
 "nbformat": 4,
 "nbformat_minor": 2
}
